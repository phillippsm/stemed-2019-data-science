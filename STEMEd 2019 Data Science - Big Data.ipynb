{
 "cells": [
  {
   "cell_type": "markdown",
   "metadata": {},
   "source": [
    "# Data Visualisation using Big Data\n",
    "## Created by Zac Hatfield-Dodds\n",
    "\n",
    "In this exercise we'll be visualising historical weather data using Big Data sets from the NCI.\n",
    "\n",
    "Possible Scenario: A regional farm cooperative trying to decide what seed crops they should grow for coming years\n",
    "\n",
    "This data has been produced by the Terrestrial Ecosystem Research Network's (TERN) Ecosystem Modelling and Scaling Infrastructure (eMAST) project, using physics-based simulations to fill in the gaps in observations going back to 1970. Using \"reanalysis\" techniques like this, we can turn point observations into gridded data!\n",
    "\n",
    "It's hosted by the National Computational Infrastructure (NCI) on ANU campus, so access should be fast! You can read about the dataset here, and access it here (click the variable, dataset, then \"1. OPeNDAP\" and use the \"data URL\"). This is quite a process, but worth it to access to world-leading research datasets.\n",
    "Loading the data\n",
    "\n",
    "We'll start with some scaffolding code to demonstrate loading the data, then it's over to you to load any other variables that you might be interested in.\n"
   ]
  },
  {
   "cell_type": "code",
   "execution_count": 3,
   "metadata": {},
   "outputs": [],
   "source": [
    "# As usual, we start with our standard imports\n",
    "import numpy as np\n",
    "import pandas as pd\n",
    "import matplotlib.pyplot as plt\n",
    "\n",
    "# And for remote sensing, we add Xarray - it's inspired by Pandas, and designed\n",
    "# to handle groups of multi-dimensional arrays.  See http://xarray.pydata.org/\n",
    "import xarray as xr\n",
    "\n",
    "# Finally, we'll use a \"magic\" - that's the official name - to show plots inline.\n",
    "%matplotlib inline\n",
    "# (starting with `%` is invalid syntax in Python, so IPython and Jupyter use\n",
    "#  it to denote special commands that change e.g. how they render plots for us)"
   ]
  },
  {
   "cell_type": "code",
   "execution_count": 6,
   "metadata": {
    "collapsed": true
   },
   "outputs": [
    {
     "name": "stdout",
     "output_type": "stream",
     "text": [
      "This is 29.47 gigabytes of data!\n"
     ]
    },
    {
     "data": {
      "text/plain": [
       "<xarray.Dataset>\n",
       "Dimensions:         (lat: 3474, lon: 4110, time: 516)\n",
       "Coordinates:\n",
       "  * lat             (lat) float32 -9.005 -9.015 -9.025 ... -43.725 -43.735\n",
       "  * lon             (lon) float32 112.905 112.915 112.925 ... 153.985 153.995\n",
       "  * time            (time) datetime64[ns] 1970-01-01 1970-02-01 ... 2012-12-01\n",
       "Data variables:\n",
       "    crs             int8 ...\n",
       "    moisture_index  (time, lat, lon) float32 ...\n",
       "Attributes:\n",
       "    Conventions:                CF-1.6\n",
       "    title:                      Moisture index: eMAST-R-Package 2.0, 0.01 deg...\n",
       "    institution:                Macquarie University, Sydney, Australia\n",
       "    history:                    Produced using eMAST-R-Package 2.0\n",
       "    source:                     eMAST-R-Package 2.0\n",
       "    references:                 Rhys Whitley, Bradley Evans, Julie Pauwels, M...\n",
       "    calendar:                   gregorian\n",
       "    _FillValue:                 b'-9999'\n",
       "    valid_min:                  1970-01-01T00:00:01Z\n",
       "    valid_max:                  2012-12-31T23:59:59Z\n",
       "    summary:                    Monthly moisture index for the Australian con...\n",
       "    time_coverage_start:        1970-01-01T00:00:01Z\n",
       "    time_coverage_end:          2012-12-31T23:59:59Z\n",
       "    time_coverage_resolution:   mon\n",
       "    geospatial_lon_max:         154.0\n",
       "    geospatial_lon_min:         112.9\n",
       "    geospatial_lon_units:       degree_east\n",
       "    geospatial_lon_resolution:  0.01\n",
       "    geospatial_lat_max:         -9.0\n",
       "    geospatial_lat_min:         -43.74\n",
       "    geospatial_lat_units:       degree_north\n",
       "    geospatial_lat_resolution:  0.01\n",
       "    creator_name:               Bradley Evans\n",
       "    creator_url:                http://www.emast.org.au/community/bradley-evans/\n",
       "    project:                    eMAST\n",
       "    acknowledgements:           The creation of this data was funded by the T...\n",
       "    processing_level:           Quality Controlled\n",
       "    keywords:                   Earth Sciences > atmospheric sciences = 0401\n",
       "    keywords_vocabulary:        ANZSCR-FOR\n",
       "    standard_name_vocabulary:   Climate and Forecast (CF) Standard Names\n",
       "    publisher_name:             Ecosystem Modeling and Scaling Infrastructure...\n",
       "    publisher_email:            emast.data@mq.edu.au\n",
       "    contributor_name:           Bradley Evans\n",
       "    contributor_role:           principalInvestigator\n",
       "    license:                    These data can be freely downloaded and used ...\n",
       "    date_created:               to be filled in when data are created\n",
       "    id:                         eMAST-R-Package_v1-1_moisture-index_monthly_0...\n",
       "    creator_email:              emast.info@gmail.com\n",
       "    metadata_uuid:              2fdcdaf3-b700-4315-9288-019f2ca03111"
      ]
     },
     "execution_count": 6,
     "metadata": {},
     "output_type": "execute_result"
    }
   ],
   "source": [
    "# Open the annual mean air temperature dataset, over the internet.\n",
    "# Rainfall data url:    http://dapds00.nci.org.au/thredds/dodsC/rr9/eMAST_data/eMAST-R-Package/eMAST-R-Package_v1-1_rainfall_yearly_0-01deg_1970-2012\n",
    "# Temperature data url: http://dapds00.nci.org.au/thredds/dodsC/rr9/eMAST_data/eMAST-R-Package/eMAST-R-Package_v1-1_temperature-mean_yearly_0-01deg_1970-2012\n",
    "ds = xr.open_dataset(\n",
    "    \"http://dapds00.nci.org.au/thredds/dodsC/rr9/eMAST_data/eMAST-R-Package/eMAST-R-Package_v1-1_moisture-index_monthly_0-01deg_1970-2012\",\n",
    ")\n",
    "print(f\"This is {ds.nbytes/1e9:.2f} gigabytes of data!\")\n",
    "ds"
   ]
  },
  {
   "cell_type": "markdown",
   "metadata": {},
   "source": [
    "So this is a fairly large dataset - 29.5GB of data, a substantial time dimension, and _lots_ of metadata describing the data and its provenance.  So far, so good."
   ]
  },
  {
   "cell_type": "code",
   "execution_count": null,
   "metadata": {},
   "outputs": [],
   "source": [
    "# There are special rules for time-based selection in Pandas and Xarray.\n",
    "#     (You can use any prefix of the YYYY-MM-DDThh:mm:ss datetime syntax\n",
    "#      specified in ISO8601 to select all time-steps starting with that prefix)\n",
    "# or, \"just use strings instead of integers to select years\"\n",
    "moisture201201 = ds.moisture_index.sel(time=\"2012-01\").squeeze()\n",
    "moisture201201"
   ]
  },
  {
   "cell_type": "code",
   "execution_count": null,
   "metadata": {},
   "outputs": [],
   "source": [
    "# There are special rules for time-based selection in Pandas and Xarray.\n",
    "#     (You can use any prefix of the YYYY-MM-DDThh:mm:ss datetime syntax\n",
    "#      specified in ISO8601 to select all time-steps starting with that prefix)\n",
    "# or, \"just use strings instead of integers to select years\"\n",
    "rain = dsr.lwe_thickness_of_precipitation_amount.sel(time=\"2012\").squeeze()\n",
    "rain"
   ]
  },
  {
   "cell_type": "code",
   "execution_count": null,
   "metadata": {},
   "outputs": [],
   "source": [
    "The OPeNDAP protocol we're using to load the data even allows us to select parts of an array without downloading the whole thing!  This is going to be important for this lab, because if you load the whole thing at once it won't take much to run out of memory.  Let's load this slice to take a closer look.\n",
    "\n",
    "*(sanity check: ~2.5GB / ~50 time steps is ~50MB; and that's trivial to work with)*"
   ]
  },
  {
   "cell_type": "code",
   "execution_count": null,
   "metadata": {},
   "outputs": [],
   "source": [
    "rain.load()"
   ]
  },
  {
   "cell_type": "code",
   "execution_count": null,
   "metadata": {},
   "outputs": [],
   "source": [
    "moisture201201.load()"
   ]
  },
  {
   "cell_type": "markdown",
   "metadata": {},
   "source": [
    "Uh-oh, that looks like a missing data value to me!  `-9999` is *physically impossible* as a measurement of temperature in degrees Celsius (or Farenheight or Kelvin), and just as impossible for rainfall data.  What's going with that?  And why is the standard_name attribute `air_temperature`???\n",
    "\n",
    "The first answer involves Xarray's `decode_cf` functionality and the [CF Conventions](http://cfconventions.org/) `_FillValue` attribute, but that's plenty of hints.  The CF conventions also define the meaning of all the other attributes, if you're interested in reading up on data, metadata, and interoperability.\n",
    "\n",
    "Note the change of colormap.\n",
    "\n",
    "Which colormap might work best? https://matplotlib.org/users/colormaps.html"
   ]
  },
  {
   "cell_type": "code",
   "execution_count": null,
   "metadata": {},
   "outputs": [],
   "source": [
    "#fig = plt.gcf()\n",
    "#@savefig\n",
    "moisture201201.where(moisture201201 != -9999).plot.imshow(vmin=0, robust=True, cmap=\"YlGnBu\", figsize=(16,12))\n",
    "plt.savefig(\"2012-01-01-moisture.png\")"
   ]
  },
  {
   "cell_type": "markdown",
   "metadata": {},
   "source": [
    "Let's plot one year of data by month and see if we can see some patterns"
   ]
  },
  {
   "cell_type": "code",
   "execution_count": null,
   "metadata": {},
   "outputs": [],
   "source": [
    "month_strings = [\"01\",\"02\",\"03\",\"04\",\"05\",\"06\",\"07\",\"08\",\"09\",\"10\",\"11\",\"12\"]\n",
    "month_moistures = []\n",
    "for m in month_strings:\n",
    "    mm = ds.moisture_index.sel(time=\"2012-\"+m).squeeze()\n",
    "    mm = mm.where(mm!=-9999)\n",
    "    month_moistures.append(mm)\n",
    "moisture_xr = xr.concat(month_moistures, dim=\"time\")\n",
    "moisture_xr.plot.imshow(col='time',col_wrap=4,vmin=0,robust=True,cmap='YlGnBu')"
   ]
  },
  {
   "cell_type": "markdown",
   "metadata": {},
   "source": [
    "Now lets look at one month (June in this case) across the years 1998 to 2013.  \n",
    "What is different?  What stories can you tell? What is missing?"
   ]
  },
  {
   "cell_type": "code",
   "execution_count": null,
   "metadata": {},
   "outputs": [],
   "source": [
    "ann06_moistures = []\n",
    "for y in range(1998,2013):\n",
    "    am = ds.moisture_index.sel(time=str(y)+\"-06\").squeeze()\n",
    "    am = am.where(am!=-9999)\n",
    "    ann06_moistures.append(am)\n",
    "ann06_xr = xr.concat(ann06_moistures, dim=\"time\")\n",
    "ann06_xr.plot.imshow(col='time',col_wrap=5,vmin=0,robust=True,cmap='YlGnBu')"
   ]
  },
  {
   "cell_type": "markdown",
   "metadata": {},
   "source": [
    "Feel free to explore"
   ]
  },
  {
   "cell_type": "code",
   "execution_count": null,
   "metadata": {},
   "outputs": [],
   "source": []
  }
 ],
 "metadata": {
  "kernelspec": {
   "display_name": "Python 3",
   "language": "python",
   "name": "python3"
  },
  "language_info": {
   "codemirror_mode": {
    "name": "ipython",
    "version": 3
   },
   "file_extension": ".py",
   "mimetype": "text/x-python",
   "name": "python",
   "nbconvert_exporter": "python",
   "pygments_lexer": "ipython3",
   "version": "3.7.1"
  }
 },
 "nbformat": 4,
 "nbformat_minor": 2
}
