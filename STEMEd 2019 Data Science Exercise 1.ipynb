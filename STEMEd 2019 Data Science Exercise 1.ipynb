{
 "cells": [
  {
   "cell_type": "markdown",
   "metadata": {},
   "source": [
    "# STEMEd 2019\n",
    "# What is Data Science?\n",
    "\n",
    "# Data Exercise 1 - Weather Data\n",
    "\n",
    "## From a Lab created by Zac Hatfield-Dodds\n",
    "\n",
    "Goals for this exercise:\n",
    "\n",
    "- Gain familiarity with the foundational libraries of the scientific Python stack\n",
    "- Investigate weather data from sensors around Australia\n",
    "\n",
    "We've chosen to work specifically with weather data for several reasons.  \n",
    "* First, station observations are relatively simple: a one-dimensional timeseries for each variable.  \n",
    "* It's relatable and interpretable, because we all live with weather, \n",
    "* Finally, interrogating the choices involved in producing *this* data can reveal just how complex the system of sensing and collecting data can be - and how much it might shape our interpretation.\n",
    "\n",
    "Importantly, you are *not* expected to know any of this already:\n",
    "* Talk with your peers\n",
    "* Ask for help.\n",
    "\n",
    "Further reading: check out the [SciPy Lectures](http://scipy-lectures.org/).\n",
    "All the libraries we're using have official tutorials, user guides, and reference documentation online too.\n",
    "\n",
    "\n",
    "-----------------------\n",
    "\n",
    "## Automatic Weather Stations\n",
    "\n",
    "[Automatic weather stations](https://en.wikipedia.org/wiki/Automatic_weather_station) are basically a bunch of sensors attached to a computer, a power supply, and typically a network connection.  They're a lot cheaper to build and run than the traditional human-staffed variety, so over the last forty years or so Australia has gone from a few hundred to tens of thousands of weather stations - and much of that data is freely available online!\n",
    "\n",
    "The Bureau of Meteorology publishes rainfall and temperature data at http://www.bom.gov.au/climate/data/  \n",
    "(and a *lot* of other data in more complicated ways; ask later if you want to find something else)\n",
    "\n",
    "Let's start by downloading a record of daily rainfall in Canberra:\n",
    "I have already downloaded the Queanbean Bowling Club station (number `070072`) for this exercise.\n",
    "It has more years of data than other Canberra-based stations.  Are there problems with this data?\n",
    "\n",
    "To find the data online:\n",
    "1. At the link above, search for \"canberra\" (with the default of daily rainfall observations)\n",
    "2. How many weather stations are available for Canberra?  Based on the small graph of available data, roughly when were they installed?\n",
    "In your classes you can investigate the metadata to uncover the story behind the weather.\n",
    "\n",
    "Now, let's do some amateur meteorology!"
   ]
  },
  {
   "cell_type": "code",
   "execution_count": 2,
   "metadata": {},
   "outputs": [],
   "source": [
    "# These are standard imports for almost any data analysis script.\n",
    "# We use an abbreviation to save on typing in interactive analysis!\n",
    "\n",
    "# Numpy is the foundational library for the numerical Python ecosystem.\n",
    "import numpy as np\n",
    "\n",
    "# Matplotlib adds plotting support to draw graphs and figures (and we only need part of it!)\n",
    "import matplotlib.pyplot as plt\n",
    "\n",
    "# Pandas is a high-level library for handling tabular data - if it's possible in Excel, it's\n",
    "# probably easier in Pandas.  Pandas builds on both Numpy and Matplotlib - and is usually\n",
    "# simpler, because it's also more specialised.  We'll mostly be using Pandas today.\n",
    "import pandas as pd"
   ]
  },
  {
   "cell_type": "markdown",
   "metadata": {},
   "source": [
    "The first step is always to read the data in - Pandas has a `read_csv` function just for this.  \n",
    "You can find the docs for it [here](https://pandas.pydata.org/pandas-docs/stable/user_guide/io.html#io-read-csv-table), or by executing a cell containing `pd.read_csv?` or `help(pd.read_csv)`."
   ]
  },
  {
   "cell_type": "code",
   "execution_count": 3,
   "metadata": {
    "collapsed": true
   },
   "outputs": [
    {
     "data": {
      "text/html": [
       "<div>\n",
       "<style scoped>\n",
       "    .dataframe tbody tr th:only-of-type {\n",
       "        vertical-align: middle;\n",
       "    }\n",
       "\n",
       "    .dataframe tbody tr th {\n",
       "        vertical-align: top;\n",
       "    }\n",
       "\n",
       "    .dataframe thead th {\n",
       "        text-align: right;\n",
       "    }\n",
       "</style>\n",
       "<table border=\"1\" class=\"dataframe\">\n",
       "  <thead>\n",
       "    <tr style=\"text-align: right;\">\n",
       "      <th></th>\n",
       "      <th>Product code</th>\n",
       "      <th>Bureau of Meteorology station number</th>\n",
       "      <th>Year</th>\n",
       "      <th>Month</th>\n",
       "      <th>Day</th>\n",
       "      <th>Rainfall amount (millimetres)</th>\n",
       "      <th>Period over which rainfall was measured (days)</th>\n",
       "      <th>Quality</th>\n",
       "    </tr>\n",
       "  </thead>\n",
       "  <tbody>\n",
       "    <tr>\n",
       "      <th>0</th>\n",
       "      <td>IDCJAC0009</td>\n",
       "      <td>70072</td>\n",
       "      <td>1870</td>\n",
       "      <td>1</td>\n",
       "      <td>1</td>\n",
       "      <td>NaN</td>\n",
       "      <td>NaN</td>\n",
       "      <td>NaN</td>\n",
       "    </tr>\n",
       "    <tr>\n",
       "      <th>1</th>\n",
       "      <td>IDCJAC0009</td>\n",
       "      <td>70072</td>\n",
       "      <td>1870</td>\n",
       "      <td>1</td>\n",
       "      <td>2</td>\n",
       "      <td>NaN</td>\n",
       "      <td>NaN</td>\n",
       "      <td>NaN</td>\n",
       "    </tr>\n",
       "    <tr>\n",
       "      <th>2</th>\n",
       "      <td>IDCJAC0009</td>\n",
       "      <td>70072</td>\n",
       "      <td>1870</td>\n",
       "      <td>1</td>\n",
       "      <td>3</td>\n",
       "      <td>NaN</td>\n",
       "      <td>NaN</td>\n",
       "      <td>NaN</td>\n",
       "    </tr>\n",
       "    <tr>\n",
       "      <th>3</th>\n",
       "      <td>IDCJAC0009</td>\n",
       "      <td>70072</td>\n",
       "      <td>1870</td>\n",
       "      <td>1</td>\n",
       "      <td>4</td>\n",
       "      <td>NaN</td>\n",
       "      <td>NaN</td>\n",
       "      <td>NaN</td>\n",
       "    </tr>\n",
       "    <tr>\n",
       "      <th>4</th>\n",
       "      <td>IDCJAC0009</td>\n",
       "      <td>70072</td>\n",
       "      <td>1870</td>\n",
       "      <td>1</td>\n",
       "      <td>5</td>\n",
       "      <td>NaN</td>\n",
       "      <td>NaN</td>\n",
       "      <td>NaN</td>\n",
       "    </tr>\n",
       "  </tbody>\n",
       "</table>\n",
       "</div>"
      ],
      "text/plain": [
       "  Product code  Bureau of Meteorology station number  Year  Month  Day  \\\n",
       "0   IDCJAC0009                                 70072  1870      1    1   \n",
       "1   IDCJAC0009                                 70072  1870      1    2   \n",
       "2   IDCJAC0009                                 70072  1870      1    3   \n",
       "3   IDCJAC0009                                 70072  1870      1    4   \n",
       "4   IDCJAC0009                                 70072  1870      1    5   \n",
       "\n",
       "   Rainfall amount (millimetres)  \\\n",
       "0                            NaN   \n",
       "1                            NaN   \n",
       "2                            NaN   \n",
       "3                            NaN   \n",
       "4                            NaN   \n",
       "\n",
       "   Period over which rainfall was measured (days) Quality  \n",
       "0                                             NaN     NaN  \n",
       "1                                             NaN     NaN  \n",
       "2                                             NaN     NaN  \n",
       "3                                             NaN     NaN  \n",
       "4                                             NaN     NaN  "
      ]
     },
     "execution_count": 3,
     "metadata": {},
     "output_type": "execute_result"
    }
   ],
   "source": [
    "# \"df\" is a standard abbreviation for \"dataframe\".\n",
    "# It means something like 'I wrote this by muscle memory', or maybe 'I can't be bothered naming this'!\n",
    "df = pd.read_csv(\"IDCJAC0009_070072_1800_Data.csv\")\n",
    "# Because the dataframe (i.e. table) is very long, we'll just look at the first few rows.\n",
    "# Note that this far predates the introduction of automatic weather stations!\n",
    "df.head()"
   ]
  },
  {
   "cell_type": "markdown",
   "metadata": {},
   "source": [
    "There are several ways we could start our analysis.  My personal favorites are:\n",
    "\n",
    "1. Generate some statistics *right now* - Are these meaningful?  What can we tell from the data?\n",
    "2. Draw a graph *right now*.  It will be messy, but we'll probably still learn something!\n",
    "3. Clean up the data a bit first - discard constant columns, rename things for easier typing etc.  (then draw a graph)\n",
    "4. Clean the data a *lot*, e.g. discard \"low quality\" data.  (then draw another graph)\n",
    "\n",
    "Let's do these in order, and see how it looks!"
   ]
  },
  {
   "cell_type": "code",
   "execution_count": 7,
   "metadata": {
    "collapsed": true
   },
   "outputs": [
    {
     "data": {
      "text/html": [
       "<div>\n",
       "<style scoped>\n",
       "    .dataframe tbody tr th:only-of-type {\n",
       "        vertical-align: middle;\n",
       "    }\n",
       "\n",
       "    .dataframe tbody tr th {\n",
       "        vertical-align: top;\n",
       "    }\n",
       "\n",
       "    .dataframe thead th {\n",
       "        text-align: right;\n",
       "    }\n",
       "</style>\n",
       "<table border=\"1\" class=\"dataframe\">\n",
       "  <thead>\n",
       "    <tr style=\"text-align: right;\">\n",
       "      <th></th>\n",
       "      <th>Bureau of Meteorology station number</th>\n",
       "      <th>Year</th>\n",
       "      <th>Month</th>\n",
       "      <th>Day</th>\n",
       "      <th>Rainfall amount (millimetres)</th>\n",
       "      <th>Period over which rainfall was measured (days)</th>\n",
       "    </tr>\n",
       "  </thead>\n",
       "  <tbody>\n",
       "    <tr>\n",
       "      <th>count</th>\n",
       "      <td>54421.0</td>\n",
       "      <td>54421.000000</td>\n",
       "      <td>54421.000000</td>\n",
       "      <td>54421.000000</td>\n",
       "      <td>52374.000000</td>\n",
       "      <td>11394.000000</td>\n",
       "    </tr>\n",
       "    <tr>\n",
       "      <th>mean</th>\n",
       "      <td>70072.0</td>\n",
       "      <td>1944.000809</td>\n",
       "      <td>6.523033</td>\n",
       "      <td>15.729332</td>\n",
       "      <td>1.655713</td>\n",
       "      <td>1.072670</td>\n",
       "    </tr>\n",
       "    <tr>\n",
       "      <th>std</th>\n",
       "      <td>0.0</td>\n",
       "      <td>43.011798</td>\n",
       "      <td>3.448706</td>\n",
       "      <td>8.800044</td>\n",
       "      <td>5.861512</td>\n",
       "      <td>0.378459</td>\n",
       "    </tr>\n",
       "    <tr>\n",
       "      <th>min</th>\n",
       "      <td>70072.0</td>\n",
       "      <td>1870.000000</td>\n",
       "      <td>1.000000</td>\n",
       "      <td>1.000000</td>\n",
       "      <td>0.000000</td>\n",
       "      <td>1.000000</td>\n",
       "    </tr>\n",
       "    <tr>\n",
       "      <th>25%</th>\n",
       "      <td>70072.0</td>\n",
       "      <td>1907.000000</td>\n",
       "      <td>4.000000</td>\n",
       "      <td>8.000000</td>\n",
       "      <td>0.000000</td>\n",
       "      <td>1.000000</td>\n",
       "    </tr>\n",
       "    <tr>\n",
       "      <th>50%</th>\n",
       "      <td>70072.0</td>\n",
       "      <td>1944.000000</td>\n",
       "      <td>7.000000</td>\n",
       "      <td>16.000000</td>\n",
       "      <td>0.000000</td>\n",
       "      <td>1.000000</td>\n",
       "    </tr>\n",
       "    <tr>\n",
       "      <th>75%</th>\n",
       "      <td>70072.0</td>\n",
       "      <td>1981.000000</td>\n",
       "      <td>10.000000</td>\n",
       "      <td>23.000000</td>\n",
       "      <td>0.000000</td>\n",
       "      <td>1.000000</td>\n",
       "    </tr>\n",
       "    <tr>\n",
       "      <th>max</th>\n",
       "      <td>70072.0</td>\n",
       "      <td>2018.000000</td>\n",
       "      <td>12.000000</td>\n",
       "      <td>31.000000</td>\n",
       "      <td>188.700000</td>\n",
       "      <td>7.000000</td>\n",
       "    </tr>\n",
       "  </tbody>\n",
       "</table>\n",
       "</div>"
      ],
      "text/plain": [
       "       Bureau of Meteorology station number          Year         Month  \\\n",
       "count                               54421.0  54421.000000  54421.000000   \n",
       "mean                                70072.0   1944.000809      6.523033   \n",
       "std                                     0.0     43.011798      3.448706   \n",
       "min                                 70072.0   1870.000000      1.000000   \n",
       "25%                                 70072.0   1907.000000      4.000000   \n",
       "50%                                 70072.0   1944.000000      7.000000   \n",
       "75%                                 70072.0   1981.000000     10.000000   \n",
       "max                                 70072.0   2018.000000     12.000000   \n",
       "\n",
       "                Day  Rainfall amount (millimetres)  \\\n",
       "count  54421.000000                   52374.000000   \n",
       "mean      15.729332                       1.655713   \n",
       "std        8.800044                       5.861512   \n",
       "min        1.000000                       0.000000   \n",
       "25%        8.000000                       0.000000   \n",
       "50%       16.000000                       0.000000   \n",
       "75%       23.000000                       0.000000   \n",
       "max       31.000000                     188.700000   \n",
       "\n",
       "       Period over which rainfall was measured (days)  \n",
       "count                                    11394.000000  \n",
       "mean                                         1.072670  \n",
       "std                                          0.378459  \n",
       "min                                          1.000000  \n",
       "25%                                          1.000000  \n",
       "50%                                          1.000000  \n",
       "75%                                          1.000000  \n",
       "max                                          7.000000  "
      ]
     },
     "execution_count": 7,
     "metadata": {},
     "output_type": "execute_result"
    }
   ],
   "source": [
    "# Generate some descriptive statistics - this will look at all numeric fields\n",
    "df.describe()"
   ]
  },
  {
   "cell_type": "code",
   "execution_count": 8,
   "metadata": {
    "collapsed": true
   },
   "outputs": [
    {
     "data": {
      "text/plain": [
       "<matplotlib.axes._subplots.AxesSubplot at 0x11dbaf4a8>"
      ]
     },
     "execution_count": 8,
     "metadata": {},
     "output_type": "execute_result"
    },
    {
     "data": {
      "image/png": "[encoded data removed]",
      "text/plain": [
       "<Figure size 432x288 with 1 Axes>"
      ]
     },
     "metadata": {
      "needs_background": "light"
     },
     "output_type": "display_data"
    }
   ],
   "source": [
    "# Ask the dataframe to plot everything (all numeric fields)\n",
    "# Does this make any sense at all?\n",
    "df.plot()"
   ]
  },
  {
   "cell_type": "code",
   "execution_count": 10,
   "metadata": {
    "collapsed": true
   },
   "outputs": [
    {
     "data": {
      "text/plain": [
       "<matplotlib.axes._subplots.AxesSubplot at 0x11fbc3a58>"
      ]
     },
     "execution_count": 10,
     "metadata": {},
     "output_type": "execute_result"
    },
    {
     "data": {
      "image/png": "[encoded data removed]",
      "text/plain": [
       "<Figure size 432x288 with 1 Axes>"
      ]
     },
     "metadata": {
      "needs_background": "light"
     },
     "output_type": "display_data"
    }
   ],
   "source": [
    "# For names with spaces or punctuation, we have to use Python's bracket\n",
    "# syntax to get an element of the collection.  df.plot(y=\"Rainfall amount (millimetres)\") would also work.\n",
    "# Let's just plot the rainfall!\n",
    "df[\"Rainfall amount (millimetres)\"].plot()"
   ]
  },
  {
   "cell_type": "markdown",
   "metadata": {},
   "source": [
    "If or when you want to do more with Pandas plotting, [the official user guide](https://pandas.pydata.org/pandas-docs/stable/user_guide/visualization.html) is quite good.  Sometimes, sadly, you might need to use the lower-level tools provided by [Matplotlib](https://matplotlib.org/).  Other times, you'll be lucky and a high-level API like [Seaborn](https://seaborn.pydata.org/) will do the work for you!  (by convention: `import seaborn as sns`)\n",
    "\n",
    "----------------\n",
    "\n",
    "Alright, let's try cleaning up the data a bit more.\n",
    "We'll remove the colums we don't need, and rename the ones we want to use."
   ]
  },
  {
   "cell_type": "code",
   "execution_count": 11,
   "metadata": {
    "collapsed": true
   },
   "outputs": [
    {
     "data": {
      "text/html": [
       "<div>\n",
       "<style scoped>\n",
       "    .dataframe tbody tr th:only-of-type {\n",
       "        vertical-align: middle;\n",
       "    }\n",
       "\n",
       "    .dataframe tbody tr th {\n",
       "        vertical-align: top;\n",
       "    }\n",
       "\n",
       "    .dataframe thead th {\n",
       "        text-align: right;\n",
       "    }\n",
       "</style>\n",
       "<table border=\"1\" class=\"dataframe\">\n",
       "  <thead>\n",
       "    <tr style=\"text-align: right;\">\n",
       "      <th></th>\n",
       "      <th>Year</th>\n",
       "      <th>Month</th>\n",
       "      <th>Day</th>\n",
       "      <th>rainfall_mm</th>\n",
       "      <th>measurement_period_days</th>\n",
       "      <th>quality</th>\n",
       "    </tr>\n",
       "  </thead>\n",
       "  <tbody>\n",
       "    <tr>\n",
       "      <th>0</th>\n",
       "      <td>1870</td>\n",
       "      <td>1</td>\n",
       "      <td>1</td>\n",
       "      <td>NaN</td>\n",
       "      <td>NaN</td>\n",
       "      <td>NaN</td>\n",
       "    </tr>\n",
       "    <tr>\n",
       "      <th>1</th>\n",
       "      <td>1870</td>\n",
       "      <td>1</td>\n",
       "      <td>2</td>\n",
       "      <td>NaN</td>\n",
       "      <td>NaN</td>\n",
       "      <td>NaN</td>\n",
       "    </tr>\n",
       "    <tr>\n",
       "      <th>2</th>\n",
       "      <td>1870</td>\n",
       "      <td>1</td>\n",
       "      <td>3</td>\n",
       "      <td>NaN</td>\n",
       "      <td>NaN</td>\n",
       "      <td>NaN</td>\n",
       "    </tr>\n",
       "    <tr>\n",
       "      <th>3</th>\n",
       "      <td>1870</td>\n",
       "      <td>1</td>\n",
       "      <td>4</td>\n",
       "      <td>NaN</td>\n",
       "      <td>NaN</td>\n",
       "      <td>NaN</td>\n",
       "    </tr>\n",
       "    <tr>\n",
       "      <th>4</th>\n",
       "      <td>1870</td>\n",
       "      <td>1</td>\n",
       "      <td>5</td>\n",
       "      <td>NaN</td>\n",
       "      <td>NaN</td>\n",
       "      <td>NaN</td>\n",
       "    </tr>\n",
       "  </tbody>\n",
       "</table>\n",
       "</div>"
      ],
      "text/plain": [
       "   Year  Month  Day  rainfall_mm  measurement_period_days quality\n",
       "0  1870      1    1          NaN                      NaN     NaN\n",
       "1  1870      1    2          NaN                      NaN     NaN\n",
       "2  1870      1    3          NaN                      NaN     NaN\n",
       "3  1870      1    4          NaN                      NaN     NaN\n",
       "4  1870      1    5          NaN                      NaN     NaN"
      ]
     },
     "execution_count": 11,
     "metadata": {},
     "output_type": "execute_result"
    }
   ],
   "source": [
    "# The secret of Pandas is that nobody remembers everything about it, \n",
    "# but over time you get a sense of what should be possible - and lots\n",
    "# of practice searching for methods that probably exist!\n",
    "#\n",
    "# This sets df to a new dataframe, so running the cell a second time will fail.\n",
    "# Because these columns don't exist in the new df, it's an error to try to drop them.\n",
    "# Go re-run the cell with read_csv, then try again.\n",
    "df = df.drop(columns=[\n",
    "    \"Product code\",\n",
    "    \"Bureau of Meteorology station number\",\n",
    "]).rename(columns={\n",
    "    \"Rainfall amount (millimetres)\": \"rainfall_mm\",\n",
    "    \"Period over which rainfall was measured (days)\": \"measurement_period_days\",\n",
    "    \"Quality\": \"quality\",\n",
    "})\n",
    "# Then we check the first few rows again, to make sure we know what that did!\n",
    "df.head()"
   ]
  },
  {
   "cell_type": "code",
   "execution_count": 12,
   "metadata": {
    "collapsed": true
   },
   "outputs": [
    {
     "data": {
      "text/plain": [
       "<matplotlib.axes._subplots.AxesSubplot at 0x11fe0f518>"
      ]
     },
     "execution_count": 12,
     "metadata": {},
     "output_type": "execute_result"
    },
    {
     "data": {
      "image/png": "[encoded data removed]",
      "text/plain": [
       "<Figure size 432x288 with 1 Axes>"
      ]
     },
     "metadata": {
      "needs_background": "light"
     },
     "output_type": "display_data"
    }
   ],
   "source": [
    "# Let's look at the period_measured, for a change.\n",
    "# Look back at the notes\n",
    "df.measurement_period_days.plot()"
   ]
  },
  {
   "cell_type": "markdown",
   "metadata": {},
   "source": [
    "That's still the same data as before cleaning - we just massaged it into a more convenient shape to code against.\n",
    "\n",
    "Now, let's make a new table that will have the date as the index, and remove low-quality observations including those taken over multiple days. After that, it should be simple to do some statistics!"
   ]
  },
  {
   "cell_type": "code",
   "execution_count": 13,
   "metadata": {
    "collapsed": true
   },
   "outputs": [
    {
     "data": {
      "text/html": [
       "<div>\n",
       "<style scoped>\n",
       "    .dataframe tbody tr th:only-of-type {\n",
       "        vertical-align: middle;\n",
       "    }\n",
       "\n",
       "    .dataframe tbody tr th {\n",
       "        vertical-align: top;\n",
       "    }\n",
       "\n",
       "    .dataframe thead th {\n",
       "        text-align: right;\n",
       "    }\n",
       "</style>\n",
       "<table border=\"1\" class=\"dataframe\">\n",
       "  <thead>\n",
       "    <tr style=\"text-align: right;\">\n",
       "      <th></th>\n",
       "      <th>rainfall_mm</th>\n",
       "      <th>measurement_period_days</th>\n",
       "      <th>quality</th>\n",
       "    </tr>\n",
       "    <tr>\n",
       "      <th>date</th>\n",
       "      <th></th>\n",
       "      <th></th>\n",
       "      <th></th>\n",
       "    </tr>\n",
       "  </thead>\n",
       "  <tbody>\n",
       "    <tr>\n",
       "      <th>1870-01-01</th>\n",
       "      <td>NaN</td>\n",
       "      <td>NaN</td>\n",
       "      <td>NaN</td>\n",
       "    </tr>\n",
       "    <tr>\n",
       "      <th>1870-01-02</th>\n",
       "      <td>NaN</td>\n",
       "      <td>NaN</td>\n",
       "      <td>NaN</td>\n",
       "    </tr>\n",
       "    <tr>\n",
       "      <th>1870-01-03</th>\n",
       "      <td>NaN</td>\n",
       "      <td>NaN</td>\n",
       "      <td>NaN</td>\n",
       "    </tr>\n",
       "    <tr>\n",
       "      <th>1870-01-04</th>\n",
       "      <td>NaN</td>\n",
       "      <td>NaN</td>\n",
       "      <td>NaN</td>\n",
       "    </tr>\n",
       "    <tr>\n",
       "      <th>1870-01-05</th>\n",
       "      <td>NaN</td>\n",
       "      <td>NaN</td>\n",
       "      <td>NaN</td>\n",
       "    </tr>\n",
       "  </tbody>\n",
       "</table>\n",
       "</div>"
      ],
      "text/plain": [
       "            rainfall_mm  measurement_period_days quality\n",
       "date                                                    \n",
       "1870-01-01          NaN                      NaN     NaN\n",
       "1870-01-02          NaN                      NaN     NaN\n",
       "1870-01-03          NaN                      NaN     NaN\n",
       "1870-01-04          NaN                      NaN     NaN\n",
       "1870-01-05          NaN                      NaN     NaN"
      ]
     },
     "execution_count": 13,
     "metadata": {},
     "output_type": "execute_result"
    }
   ],
   "source": [
    "# Now that we know what's in the file, we can take advantage of that when reading it in!\n",
    "# `parse_dates` creates a unified date column, using a date (not integer) datatype,\n",
    "# and `index_col` sets the date (not the row number) as the index - it's a timeseries. \n",
    "clean = pd.read_csv(\n",
    "    \"IDCJAC0009_070072_1800_Data.csv\",\n",
    "    parse_dates={\"date\": [\"Year\", \"Month\", \"Day\"]},\n",
    "    index_col=\"date\",\n",
    "# Then repeat our initial cleaning steps as soon as the file is opened...\n",
    ").drop(columns=[\n",
    "    \"Product code\",\n",
    "    \"Bureau of Meteorology station number\",\n",
    "]).rename(columns={\n",
    "    \"Rainfall amount (millimetres)\": \"rainfall_mm\",\n",
    "    \"Period over which rainfall was measured (days)\": \"measurement_period_days\",\n",
    "    \"Quality\": \"quality\",\n",
    "})\n",
    "\n",
    "# And finally, show the first few rows again\n",
    "clean.head()"
   ]
  },
  {
   "cell_type": "code",
   "execution_count": 14,
   "metadata": {
    "collapsed": true
   },
   "outputs": [
    {
     "data": {
      "text/plain": [
       "date\n",
       "1870-01-01   NaN\n",
       "1870-01-02   NaN\n",
       "1870-01-03   NaN\n",
       "1870-01-04   NaN\n",
       "1870-01-05   NaN\n",
       "Name: rainfall_mm, dtype: float64"
      ]
     },
     "execution_count": 14,
     "metadata": {},
     "output_type": "execute_result"
    }
   ],
   "source": [
    "# We'll create a variable \"rain\", which is a subset of the rainfall observations\n",
    "rain = clean.rainfall_mm.where(\n",
    "    # If clean.quality is not Y, set the rainfall value to NaN\n",
    "    # (as if there was no observation at all)\n",
    "    clean.quality == \"Y\"\n",
    ").where(\n",
    "    # If the period over which the rainfall was measured is longer than a day,\n",
    "    # discard those measurements too.  Other ways to handle this include dividing\n",
    "    # the rainfall by the days of observation, and optionally backfilling previous \n",
    "    # days.  But that may change the distribution, because rain doesn't fall evenly!\n",
    "    # (of course, length of observation may be correlated with rainfall...)\n",
    "    clean.measurement_period_days.fillna(1) == 1\n",
    ")\n",
    "# Anyway, `rain` is a time-indexed Series object, showing rainfall.\n",
    "rain.head()"
   ]
  },
  {
   "cell_type": "code",
   "execution_count": 15,
   "metadata": {
    "collapsed": true
   },
   "outputs": [
    {
     "data": {
      "text/plain": [
       "<matplotlib.axes._subplots.AxesSubplot at 0x11f9c0630>"
      ]
     },
     "execution_count": 15,
     "metadata": {},
     "output_type": "execute_result"
    },
    {
     "data": {
      "image/png": "[encoded data removed]",
      "text/plain": [
       "<Figure size 432x288 with 1 Axes>"
      ]
     },
     "metadata": {
      "needs_background": "light"
     },
     "output_type": "display_data"
    }
   ],
   "source": [
    "# now we can plot the cleaned data\n",
    "rain.plot()"
   ]
  },
  {
   "cell_type": "markdown",
   "metadata": {},
   "source": [
    "# With your students:\n",
    "With a nice clean dataset in hand, I suggest reading through the [10 minutes to Pandas](https://pandas.pydata.org/pandas-docs/stable/getting_started/10min.html) guide to get a sense of what is possible.  For more detail, [the pandas docs](https://pandas.pydata.org/pandas-docs/stable/index.html) are actually really good - though I'd suggest looking at the user guides over the API reference pages.\n",
    "\n",
    "I'll just put a few demos here, because you don't actually need to know the detail of this for this course - the goal of today's lab is to get you comfortable doing data analysis in Python.  So long as you have that confidence and some idea of what is possible, you can look up any details if or when you actually need them later.\n",
    "\n",
    "How would you validate or 'sanity-check' these results?  Is the median rainfall reasonable?  The multi-year trend?  What would you need to know to find out?"
   ]
  },
  {
   "cell_type": "code",
   "execution_count": 16,
   "metadata": {
    "collapsed": true
   },
   "outputs": [
    {
     "name": "stdout",
     "output_type": "stream",
     "text": [
      "Mean :1.539927243174229\n",
      "Median :0.0\n"
     ]
    }
   ],
   "source": [
    "# we can calculate statistics such as mean, median, and mode:\n",
    "print(\"Mean :\" + str(rain.mean()))\n",
    "print(\"Median :\" + str(rain.median()))\n"
   ]
  },
  {
   "cell_type": "code",
   "execution_count": 17,
   "metadata": {
    "collapsed": true
   },
   "outputs": [
    {
     "data": {
      "text/plain": [
       "<matplotlib.axes._subplots.AxesSubplot at 0x11ca7b550>"
      ]
     },
     "execution_count": 17,
     "metadata": {},
     "output_type": "execute_result"
    },
    {
     "data": {
      "image/png": "[encoded data removed]",
      "text/plain": [
       "<Figure size 432x288 with 1 Axes>"
      ]
     },
     "metadata": {
      "needs_background": "light"
     },
     "output_type": "display_data"
    }
   ],
   "source": [
    "# And we can do some fancier stuff too: how much did it rain each year?\n",
    "rain.groupby(rain.index.year).sum().plot()"
   ]
  },
  {
   "cell_type": "code",
   "execution_count": 20,
   "metadata": {
    "collapsed": true
   },
   "outputs": [
    {
     "data": {
      "text/plain": [
       "<matplotlib.axes._subplots.AxesSubplot at 0x11f760080>"
      ]
     },
     "execution_count": 20,
     "metadata": {},
     "output_type": "execute_result"
    },
    {
     "data": {
      "image/png": "[encoded data removed]",
      "text/plain": [
       "<Figure size 432x288 with 1 Axes>"
      ]
     },
     "metadata": {
      "needs_background": "light"
     },
     "output_type": "display_data"
    }
   ],
   "source": [
    "# Or the mean rain each year - is this different to sum?\n",
    "rain.groupby(rain.index.year).mean().plot()"
   ]
  },
  {
   "cell_type": "code",
   "execution_count": 21,
   "metadata": {
    "collapsed": true
   },
   "outputs": [
    {
     "data": {
      "text/plain": [
       "<matplotlib.axes._subplots.AxesSubplot at 0x12149cda0>"
      ]
     },
     "execution_count": 21,
     "metadata": {},
     "output_type": "execute_result"
    },
    {
     "data": {
      "image/png": "[encoded data removed]",
      "text/plain": [
       "<Figure size 432x288 with 1 Axes>"
      ]
     },
     "metadata": {
      "needs_background": "light"
     },
     "output_type": "display_data"
    }
   ],
   "source": [
    "# And when during the year does rain usually fall?\n",
    "rain.groupby(rain.index.dayofyear).mean().plot()"
   ]
  },
  {
   "cell_type": "code",
   "execution_count": null,
   "metadata": {},
   "outputs": [],
   "source": [
    "# Finally, a preview of Xarray - a tool designed for multidimensional scientific data.\n",
    "# We'll be using this for remote sensing, as Pandas is designed for any kind of tabular data.\n",
    "r = rain.to_xarray()\n",
    "r.attrs[\"units\"] = \"mm\"  # automatic axis labels!\n",
    "r.plot()"
   ]
  },
  {
   "cell_type": "markdown",
   "metadata": {},
   "source": [
    "That brings us to the end of the worked examples with Pandas.  \n",
    "\n",
    "You might have noticed that we didn't use Numpy or Matplotlib anywhere in this notebook - or at least not directly.\n",
    "However, Pandas uses matplotlib to draw every plot we've seen, and both Pandas and Matplotlib use Numpy to handle numerical data of all kinds.  More practically, it's a good habit to have all your imports in the first cell - and can be tedious to go back and add one when you're in the middle of an exploration!\n",
    "\n",
    "\n",
    "## What next?\n",
    "\n",
    "A worked example is nice, but there's no substitute for practice.  Your challenge is to investigate the relationship between daily rainfall.\n",
    "\n",
    "- In what season does rain usually fall in Canberra?  Darwin?  Perth?\n",
    "\n",
    "Or anything else you'd like to discover!  \n",
    "\n",
    "This is a chance to play and explore with the code **and** to think and learn about how the details of the sensors affect the data they collect.  "
   ]
  },
  {
   "cell_type": "code",
   "execution_count": null,
   "metadata": {},
   "outputs": [],
   "source": [
    "# DATA For Perth\n",
    "# Station Id: 009021 (Perth Airport)\n",
    "# http://www.bom.gov.au/jsp/ncc/cdio/weatherData/av?p_nccObsCode=136&p_display_type=dailyDataFile&p_startYear=&p_c=&p_stn_num=009021 \n",
    "# Data is recorded from 1944 until 2019 (present day)\n",
    "# Now that we know what's in the file, we can take advantage of that when reading it in!\n",
    "# `parse_dates` creates a unified date column, using a date (not integer) datatype,\n",
    "# and `index_col` sets the date (not the row number) as the index - it's a timeseries. \n",
    "clean_wa = pd.read_csv(\n",
    "    \"IDCJAC0009_009021_1800_Data.csv\",\n",
    "    parse_dates={\"date\": [\"Year\", \"Month\", \"Day\"]},\n",
    "    index_col=\"date\",\n",
    "# Then repeat our initial cleaning steps as soon as the file is opened...\n",
    ").drop(columns=[\n",
    "    \"Product code\",\n",
    "    \"Bureau of Meteorology station number\",\n",
    "]).rename(columns={\n",
    "    \"Rainfall amount (millimetres)\": \"rainfall_mm\",\n",
    "    \"Period over which rainfall was measured (days)\": \"measurement_period_days\",\n",
    "    \"Quality\": \"quality\",\n",
    "})\n"
   ]
  },
  {
   "cell_type": "code",
   "execution_count": null,
   "metadata": {},
   "outputs": [],
   "source": [
    "# DATA For Darwin\n",
    "# Station Id: 014015 (Darwin Airport)\n",
    "# http://www.bom.gov.au/jsp/ncc/cdio/weatherData/av?p_nccObsCode=136&p_display_type=dailyDataFile&p_startYear=&p_c=&p_stn_num=014015\n",
    "# Data is recorded from 1941 until 2019 (present day)\n",
    "# Now that we know what's in the file, we can take advantage of that when reading it in!\n",
    "# `parse_dates` creates a unified date column, using a date (not integer) datatype,\n",
    "# and `index_col` sets the date (not the row number) as the index - it's a timeseries. \n",
    "clean_nt = pd.read_csv(\n",
    "    \"IDCJAC0009_014015_1800_Data.csv\",\n",
    "    parse_dates={\"date\": [\"Year\", \"Month\", \"Day\"]},\n",
    "    index_col=\"date\",\n",
    "# Then repeat our initial cleaning steps as soon as the file is opened...\n",
    ").drop(columns=[\n",
    "    \"Product code\",\n",
    "    \"Bureau of Meteorology station number\",\n",
    "]).rename(columns={\n",
    "    \"Rainfall amount (millimetres)\": \"rainfall_mm\",\n",
    "    \"Period over which rainfall was measured (days)\": \"measurement_period_days\",\n",
    "    \"Quality\": \"quality\",\n",
    "})"
   ]
  }
 ],
 "metadata": {
  "kernelspec": {
   "display_name": "Python 3",
   "language": "python",
   "name": "python3"
  },
  "language_info": {
   "codemirror_mode": {
    "name": "ipython",
    "version": 3
   },
   "file_extension": ".py",
   "mimetype": "text/x-python",
   "name": "python",
   "nbconvert_exporter": "python",
   "pygments_lexer": "ipython3",
   "version": "3.7.1"
  }
 },
 "nbformat": 4,
 "nbformat_minor": 2
}
